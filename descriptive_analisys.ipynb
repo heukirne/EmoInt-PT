{
 "cells": [
  {
   "cell_type": "code",
   "execution_count": 36,
   "metadata": {
    "collapsed": false,
    "deletable": true,
    "editable": true
   },
   "outputs": [
    {
     "data": {
      "text/plain": [
       "(134955, 71)"
      ]
     },
     "execution_count": 36,
     "metadata": {},
     "output_type": "execute_result"
    }
   ],
   "source": [
    "import pandas as pd\n",
    "\n",
    "### load data\n",
    "sentences = pd.read_csv('story_liwc_author_sentences.csv.gz', compression='gzip')\n",
    "sentences.shape"
   ]
  },
  {
   "cell_type": "code",
   "execution_count": 37,
   "metadata": {
    "collapsed": false,
    "deletable": true,
    "editable": true
   },
   "outputs": [
    {
     "data": {
      "text/plain": [
       "(38948, 71)"
      ]
     },
     "execution_count": 37,
     "metadata": {},
     "output_type": "execute_result"
    }
   ],
   "source": [
    "### select self sentences\n",
    "me_sentences = sentences[sentences['i']>0]\n",
    "me_sentences.shape"
   ]
  },
  {
   "cell_type": "code",
   "execution_count": 38,
   "metadata": {
    "collapsed": true,
    "deletable": true,
    "editable": true
   },
   "outputs": [],
   "source": [
    "### strip accent function\n",
    "import unicodedata\n",
    "def remove_accents(input_str):\n",
    "    nfkd_form = unicodedata.normalize('NFKD', input_str)\n",
    "    return u\"\".join([c for c in nfkd_form if not unicodedata.combining(c)])"
   ]
  },
  {
   "cell_type": "code",
   "execution_count": 39,
   "metadata": {
    "collapsed": false,
    "deletable": true,
    "editable": true
   },
   "outputs": [
    {
     "name": "stdout",
     "output_type": "stream",
     "text": [
      "Tokens:  934977\n",
      "Mean Tokens per Sentence:  24.005776933347025\n",
      "Unique Tokens:  44648\n"
     ]
    }
   ],
   "source": [
    "import nltk\n",
    "reg_tokenizer = nltk.tokenize.RegexpTokenizer(r'\\w+')\n",
    "\n",
    "sentences_tokens = []\n",
    "unique_tokens = set()\n",
    "tokens_count = []\n",
    "\n",
    "### compute tokens\n",
    "for sentence in me_sentences.sentence:\n",
    "    tokens = reg_tokenizer.tokenize(sentence)\n",
    "    normalize_tokens = [remove_accents(w.lower()) for w in tokens]\n",
    "    sentences_tokens.extend( normalize_tokens )\n",
    "    unique_tokens |= set(normalize_tokens)\n",
    "    tokens_count.append(len(normalize_tokens))\n",
    "    \n",
    "### tokens stats    \n",
    "print ('Tokens: ',len(sentences_tokens))\n",
    "print ('Mean Tokens per Sentence: ', len(sentences_tokens) / len(me_sentences))\n",
    "print ('Unique Tokens: ',len(unique_tokens))"
   ]
  },
  {
   "cell_type": "code",
   "execution_count": 40,
   "metadata": {
    "collapsed": false
   },
   "outputs": [
    {
     "name": "stdout",
     "output_type": "stream",
     "text": [
      "mean: 24.0057769333\n",
      "std: 21.2500501512\n",
      "median: 19.0\n"
     ]
    },
    {
     "name": "stderr",
     "output_type": "stream",
     "text": [
      "/usr/local/lib/python3.5/dist-packages/ipykernel/__main__.py:2: SettingWithCopyWarning: \n",
      "A value is trying to be set on a copy of a slice from a DataFrame.\n",
      "Try using .loc[row_indexer,col_indexer] = value instead\n",
      "\n",
      "See the caveats in the documentation: http://pandas.pydata.org/pandas-docs/stable/indexing.html#indexing-view-versus-copy\n",
      "  from ipykernel import kernelapp as app\n"
     ]
    }
   ],
   "source": [
    "### more tokens stats\n",
    "me_sentences['wc'] = tokens_count\n",
    "print('mean:', me_sentences['wc'].mean())\n",
    "print('std:', me_sentences['wc'].std())\n",
    "print('median:', me_sentences['wc'].median())"
   ]
  },
  {
   "cell_type": "code",
   "execution_count": 41,
   "metadata": {
    "collapsed": false,
    "deletable": true,
    "editable": true
   },
   "outputs": [
    {
     "data": {
      "image/png": "[encoded data removed]",
      "text/plain": [
       "<matplotlib.figure.Figure at 0x7ff68edaac88>"
      ]
     },
     "metadata": {},
     "output_type": "display_data"
    }
   ],
   "source": [
    "%matplotlib inline\n",
    "\n",
    "import numpy as np\n",
    "import matplotlib.mlab as mlab\n",
    "import matplotlib.pyplot as plt\n",
    "\n",
    "### tokens histogram\n",
    "n, bins, patches = plt.hist(tokens_count, 104, facecolor='red', alpha=0.75)\n",
    "\n",
    "plt.xlabel('Number of tokens')\n",
    "plt.ylabel('Number of sentences')\n",
    "plt.title('Frequency of tokens per sentence')\n",
    "plt.axis([0, 160, 0, 8000])\n",
    "plt.grid(True)\n",
    "\n",
    "plt.show()"
   ]
  },
  {
   "cell_type": "code",
   "execution_count": 42,
   "metadata": {
    "collapsed": false,
    "deletable": true,
    "editable": true
   },
   "outputs": [
    {
     "name": "stdout",
     "output_type": "stream",
     "text": [
      "Positive sentences:  24298\n",
      "Negative sentences:  14712\n",
      "Anger sentences:  5784\n",
      "Sad sentences:  7618\n"
     ]
    }
   ],
   "source": [
    "### emotion stats\n",
    "print('Positive sentences: ', len(me_sentences[me_sentences['posemo']>0]))\n",
    "print('Negative sentences: ', len(me_sentences[me_sentences['negemo']>0]))\n",
    "print('Anger sentences: ', len(me_sentences[me_sentences['anger']>0]))\n",
    "print('Sad sentences: ', len(me_sentences[me_sentences['sad']>0]))"
   ]
  },
  {
   "cell_type": "code",
   "execution_count": 43,
   "metadata": {
    "collapsed": false,
    "deletable": true,
    "editable": true
   },
   "outputs": [
    {
     "data": {
      "text/plain": [
       "22348"
      ]
     },
     "execution_count": 43,
     "metadata": {},
     "output_type": "execute_result"
    }
   ],
   "source": [
    "## select median token sentences\n",
    "median_sentences = me_sentences[me_sentences['wc'] > 10]\n",
    "median_sentences = median_sentences[median_sentences['wc'] < 30]\n",
    "len(median_sentences)"
   ]
  },
  {
   "cell_type": "code",
   "execution_count": 44,
   "metadata": {
    "collapsed": false,
    "deletable": true,
    "editable": true
   },
   "outputs": [
    {
     "name": "stdout",
     "output_type": "stream",
     "text": [
      "Positive sentences:  13559\n",
      "Negative sentences:  7764\n",
      "Anger sentences:  2808\n",
      "Sad sentences:  3750\n"
     ]
    }
   ],
   "source": [
    "### emotion stats for median sentences\n",
    "print('Positive sentences: ', len(median_sentences[median_sentences['posemo']>0]))\n",
    "print('Negative sentences: ', len(median_sentences[median_sentences['negemo']>0]))\n",
    "print('Anger sentences: ', len(median_sentences[median_sentences['anger']>0]))\n",
    "print('Sad sentences: ', len(median_sentences[median_sentences['sad']>0]))"
   ]
  }
 ],
 "metadata": {
  "kernelspec": {
   "display_name": "Python 3",
   "language": "python",
   "name": "python3"
  },
  "language_info": {
   "codemirror_mode": {
    "name": "ipython",
    "version": 3
   },
   "file_extension": ".py",
   "mimetype": "text/x-python",
   "name": "python",
   "nbconvert_exporter": "python",
   "pygments_lexer": "ipython3",
   "version": "3.5.2"
  }
 },
 "nbformat": 4,
 "nbformat_minor": 2
}
